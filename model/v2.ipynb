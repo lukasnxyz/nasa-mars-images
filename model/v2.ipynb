{
 "cells": [
  {
   "cell_type": "code",
   "execution_count": 92,
   "id": "c3ac6bf9-bee1-4272-8686-b2e45a7e30c9",
   "metadata": {},
   "outputs": [],
   "source": [
    "import csv\n",
    "import numpy as np\n",
    "from tqdm import tqdm\n",
    "import time\n",
    "import matplotlib.pyplot as plt\n",
    "\n",
    "import torch\n",
    "import torch.nn as nn"
   ]
  },
  {
   "cell_type": "code",
   "execution_count": 2,
   "id": "833c9fd6-5323-4320-bb30-771da24dc4e1",
   "metadata": {},
   "outputs": [
    {
     "name": "stdout",
     "output_type": "stream",
     "text": [
      "using device: mps\n"
     ]
    }
   ],
   "source": [
    "torch.manual_seed(42)\n",
    "d_opts = [('cuda', torch.cuda.is_available()), ('mps', torch.backends.mps.is_available()), ('cpu', True)]\n",
    "device = next(device for device, available in d_opts if available)\n",
    "print(f'using device: {device}')"
   ]
  },
  {
   "cell_type": "code",
   "execution_count": 83,
   "id": "76cb5f85-e866-42f9-bece-a082510b97d4",
   "metadata": {},
   "outputs": [
    {
     "name": "stderr",
     "output_type": "stream",
     "text": [
      "loading csv data: 64947it [01:11, 903.95it/s]\n"
     ]
    }
   ],
   "source": [
    "data_csv = '../data/nasa_mars_images.csv'\n",
    "with open(data_csv, mode='r') as f:\n",
    "    reader = csv.reader(f)\n",
    "    data = np.array([[np.float32(item) for item in row] for row in tqdm(reader, desc='loading csv data')])\n",
    "    \n",
    "n = int(0.85*len(data))\n",
    "data_tr, data_val = data[:n], data[n:]\n",
    "Xtr, Ytr = torch.from_numpy(data_tr[:, 1:]).to(device), torch.from_numpy(data_tr[:, 0]).to(device)\n",
    "Xtr = Xtr.view(n, 50, 50)\n",
    "Xval, Yval = torch.from_numpy(data_val[:, 1:]).to(device), torch.from_numpy(data_val[:, 0]).to(device)\n",
    "Xval = Xval.view(len(data)-n, 50, 50)"
   ]
  },
  {
   "cell_type": "code",
   "execution_count": 84,
   "id": "8c8cc185-fb78-4783-805e-13bad438dc0f",
   "metadata": {},
   "outputs": [
    {
     "name": "stdout",
     "output_type": "stream",
     "text": [
      "{0: 52722, 1: 5024, 2: 766, 3: 1575, 4: 1654, 5: 476, 6: 1834, 7: 896}\n"
     ]
    },
    {
     "data": {
      "image/png": "[encoded data removed]",
      "text/plain": [
       "<Figure size 640x480 with 1 Axes>"
      ]
     },
     "metadata": {},
     "output_type": "display_data"
    }
   ],
   "source": [
    "cc_list = torch.cat((Ytr, Yval)).tolist()\n",
    "cc_dict = {}\n",
    "for i in range(8):\n",
    "    if i not in cc_dict:\n",
    "        cc_dict[i] = 0\n",
    "for i in cc_list:\n",
    "    cc_dict[i] += 1\n",
    "\n",
    "print(cc_dict)\n",
    "plt.bar(cc_dict.keys(), cc_dict.values())\n",
    "plt.title('frequency of samples')\n",
    "plt.show();"
   ]
  },
  {
   "cell_type": "code",
   "execution_count": 86,
   "id": "acd99040-43ac-49de-90e3-aa19be670ab6",
   "metadata": {},
   "outputs": [],
   "source": [
    "input_size = 50\n",
    "num_layers = 2\n",
    "seq_len = 50\n",
    "hidden_size = 64\n",
    "num_classes = 8\n",
    "\n",
    "batch_size = 32\n",
    "learning_rate = 1e-3\n",
    "epochs = 100\n",
    "epoch_eval = 20"
   ]
  },
  {
   "cell_type": "code",
   "execution_count": 87,
   "id": "64869512-0ad9-437b-9920-b248e3c2b31a",
   "metadata": {},
   "outputs": [],
   "source": [
    "class RNN(nn.Module):\n",
    "    def __init__(self, in_size: int, h_size: int, n_layers: int, n_classes: int):\n",
    "        super().__init__()\n",
    "        self.h_size = h_size\n",
    "        self.n_layers = n_layers\n",
    "        self.rnn = nn.RNN(in_size, h_size, n_layers, batch_first=True)\n",
    "        self.fc = nn.Linear(h_size*seq_len, n_classes)\n",
    "    def forward(self, x):\n",
    "        h0 = torch.zeros(self.n_layers, x.size(0), self.h_size).to(device)\n",
    "        # forward prop\n",
    "        out, _ = self.rnn(x, h0)\n",
    "        out = out.reshape(out.shape[0], -1)\n",
    "        out = self.fc(out)\n",
    "        return out"
   ]
  },
  {
   "cell_type": "code",
   "execution_count": 94,
   "id": "511217d4-6d69-4897-9225-116b8974258d",
   "metadata": {},
   "outputs": [],
   "source": [
    "model = RNN(input_size, hidden_size, num_layers, num_classes).to(device)\n",
    "lossfn = nn.CrossEntropyLoss()\n",
    "optimizer = torch.optim.Adam(model.parameters(), lr=learning_rate)"
   ]
  },
  {
   "cell_type": "code",
   "execution_count": 95,
   "id": "c4b1067d-6471-40ed-879d-00737985da1e",
   "metadata": {},
   "outputs": [
    {
     "name": "stdout",
     "output_type": "stream",
     "text": [
      "0 loss: 1.9560492038726807\n",
      "20 loss: 0.7121099233627319\n",
      "40 loss: 0.7147712707519531\n",
      "60 loss: 0.7574779391288757\n",
      "80 loss: 0.6250511407852173\n",
      "training took: 4.4s\n"
     ]
    }
   ],
   "source": [
    "st = time.time()\n",
    "for epoch in range(epochs):\n",
    "    ix = torch.randint(0, Xtr.shape[0], (batch_size,))\n",
    "    Xb, Yb = Xtr[ix], Ytr[ix]\n",
    "\n",
    "    logits = model(Xb)\n",
    "    loss = lossfn(logits, Yb)\n",
    "\n",
    "    optimizer.zero_grad()\n",
    "    loss.backward()\n",
    "\n",
    "    optimizer.step()\n",
    "\n",
    "    if epoch % epoch_eval == 0:\n",
    "        print(f'{epoch} loss: {loss.item()}')\n",
    "et = time.time()\n",
    "print(f'training took: {et - st:.1f}s')"
   ]
  },
  {
   "cell_type": "code",
   "execution_count": 97,
   "id": "819e6b1b-0caf-4752-b026-9c1357e993d2",
   "metadata": {},
   "outputs": [
    {
     "name": "stdout",
     "output_type": "stream",
     "text": [
      "train 0.8202686309814453\n",
      "val 0.8002281785011292\n"
     ]
    }
   ],
   "source": [
    "@torch.no_grad()\n",
    "def split_loss(split: str):\n",
    "    x,y = {\n",
    "        'train': (Xtr, Ytr),\n",
    "        'val': (Xval, Yval),\n",
    "    }[split]\n",
    "    logits = model(x.float())\n",
    "    loss = lossfn(logits, y)\n",
    "    print(split, loss.item())\n",
    "\n",
    "with torch.inference_mode():\n",
    "    split_loss('train')\n",
    "    split_loss('val')"
   ]
  },
  {
   "cell_type": "code",
   "execution_count": 99,
   "id": "353de5a2-836f-413e-8056-7d8cf317b628",
   "metadata": {},
   "outputs": [
    {
     "name": "stdout",
     "output_type": "stream",
     "text": [
      "Accuracy: 81.65%\n"
     ]
    }
   ],
   "source": [
    "model.eval()\n",
    "with torch.inference_mode():\n",
    "    def accuracy_fn(y_true, y_pred):\n",
    "        correct = torch.eq(y_true, y_pred).sum().item()\n",
    "        acc = (correct / len(y_pred)) * 100\n",
    "        return acc\n",
    "    logits = model(Xval)\n",
    "    acc = accuracy_fn(y_pred=logits.argmax(dim=1),\n",
    "                     y_true=Yval)\n",
    "    print(f'Accuracy: {acc:.2f}%')"
   ]
  },
  {
   "cell_type": "code",
   "execution_count": null,
   "id": "09d39672-7806-47e9-b9d0-7fb7a9cb76a4",
   "metadata": {},
   "outputs": [],
   "source": []
  }
 ],
 "metadata": {
  "kernelspec": {
   "display_name": "notebook_venv",
   "language": "python",
   "name": "notebook_venv"
  },
  "language_info": {
   "codemirror_mode": {
    "name": "ipython",
    "version": 3
   },
   "file_extension": ".py",
   "mimetype": "text/x-python",
   "name": "python",
   "nbconvert_exporter": "python",
   "pygments_lexer": "ipython3",
   "version": "3.12.4"
  }
 },
 "nbformat": 4,
 "nbformat_minor": 5
}
